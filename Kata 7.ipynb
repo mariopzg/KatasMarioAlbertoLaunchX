{
 "cells": [
  {
   "cell_type": "markdown",
   "metadata": {},
   "source": [
    "# Ejercicio 1: Creación de un bucle \"while\"\n",
    "Uso de ciclos while en Python\n",
    "\n",
    "Comienza agregando dos variables, una para la entrada del usuario, con el nombre new_planet, y otra variable para la lista de planetas, denominada planets."
   ]
  },
  {
   "cell_type": "code",
   "execution_count": 18,
   "metadata": {},
   "outputs": [
    {
     "name": "stdout",
     "output_type": "stream",
     "text": [
      "Los planetas que agregaste son: ['planets', 'tierra']\n"
     ]
    }
   ],
   "source": [
    "new_planet= input('Ingresa el nombre de un planeta y escribe done para finalizar')\n",
    "planets= []\n",
    "\n",
    "while new_planet.lower()!='done':\n",
    "    if new_planet:\n",
    "        planets.append(new_planet)\n",
    "    new_planet = input('Enter a new planet ')\n",
    "\n",
    "print('Los planetas que agregaste son: ' + str(planets))\n",
    "\n"
   ]
  },
  {
   "cell_type": "markdown",
   "metadata": {},
   "source": [
    "# Ejercicio 2: Creación de un ciclo \"for\"\n",
    "\n",
    "Ejercicio: - Ciclo para una lista\n",
    "\n",
    "Mostrar la lista de los planetas\n",
    "La variable planets almacena los nombres de planeta que ha introducido un usuario. Ahora usarás un ciclo para mostrar esas entradas.\n",
    "\n",
    "Crea un ciclo for para iterar sobre la lista planets. Puedes usar como nombre de la variable planet para cada planeta. Dentro del ciclo for, recuerda utilizar print para mostrar cada planet."
   ]
  },
  {
   "cell_type": "code",
   "execution_count": 20,
   "metadata": {},
   "outputs": [
    {
     "name": "stdout",
     "output_type": "stream",
     "text": [
      "planets\n",
      "tierra\n"
     ]
    }
   ],
   "source": [
    "# Ciclo for para iterar en una lista de planetas\n",
    "\n",
    "for planeta in planets:\n",
    "    print(planeta)"
   ]
  }
 ],
 "metadata": {
  "interpreter": {
   "hash": "2be5faf79681da6f2a61fdfdd5405d65d042280f7fba6178067603e3a2925119"
  },
  "kernelspec": {
   "display_name": "Python 3.10.2 64-bit",
   "language": "python",
   "name": "python3"
  },
  "language_info": {
   "codemirror_mode": {
    "name": "ipython",
    "version": 3
   },
   "file_extension": ".py",
   "mimetype": "text/x-python",
   "name": "python",
   "nbconvert_exporter": "python",
   "pygments_lexer": "ipython3",
   "version": "3.10.2"
  },
  "orig_nbformat": 4
 },
 "nbformat": 4,
 "nbformat_minor": 2
}
